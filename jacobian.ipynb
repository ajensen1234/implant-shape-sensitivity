{
 "cells": [
  {
   "cell_type": "code",
   "execution_count": 1,
   "metadata": {},
   "outputs": [],
   "source": [
    "import numpy as np\n",
    "import pandas as pd\n"
   ]
  },
  {
   "cell_type": "code",
   "execution_count": 2,
   "metadata": {},
   "outputs": [
    {
     "name": "stdout",
     "output_type": "stream",
     "text": [
      "29791\n"
     ]
    }
   ],
   "source": [
    "# importing with no head\n",
    "\n",
    "hum_iartd = pd.read_csv('iartd-hum.csv', index_col=None, header=None).dropna(axis=1, how='all')\n",
    "hum_hu = pd.read_csv('hu_moments-hum.csv', index_col=None, header=None).dropna(axis=1, how='all')\n",
    "sca_iartd = pd.read_csv('iartd-sca.csv', index_col=None, header=None).dropna(axis=1, how='all')\n",
    "sca_hu = pd.read_csv('hu_moments-sca.csv', index_col=None, header=None).dropna(axis=1, how='all')\n",
    "fem_iartd = pd.read_csv('iartd-fem.csv', index_col=None, header=None).dropna(axis=1, how='all')\n",
    "fem_hu = pd.read_csv('hu_moments-fem.csv', index_col=None, header=None).dropna(axis=1, how='all')\n",
    "tib_iartd = pd.read_csv('iartd-tib.csv', index_col=None, header=None).dropna(axis=1, how='all')\n",
    "tib_hu = pd.read_csv('hu_moments-tib.csv', index_col=None, header=None).dropna(axis=1, how='all')\n",
    "# First three columns are x,y,z indicec\n",
    "\n",
    "print(len(hum_iartd))\n",
    "dz_idx = 961\n",
    "dx_idx = 31\n",
    "dy_idx = 1"
   ]
  },
  {
   "cell_type": "code",
   "execution_count": 3,
   "metadata": {},
   "outputs": [],
   "source": [
    "def find_condition(dataframe):\n",
    "    condition = []\n",
    "    for i in range(0, len(dataframe)):\n",
    "        px = i + dx_idx\n",
    "        py = i + dy_idx\n",
    "        pz = i + dz_idx\n",
    "        mx = i - dx_idx\n",
    "        my = i - dy_idx\n",
    "        mz = i - dz_idx\n",
    "        \n",
    "        # check if the index is out of bounds for each interval\n",
    "        if px > len(dataframe)-1:\n",
    "            px = i\n",
    "        if py > len(dataframe)-1:\n",
    "            py = i\n",
    "        if pz > len(dataframe)-1:\n",
    "            pz = i\n",
    "        if mx < 0:\n",
    "            mx = i\n",
    "        if my < 0:\n",
    "            my = i\n",
    "        if mz < 0:\n",
    "            mz = i\n",
    "        \n",
    "        # calculate the jacobian\n",
    "        # use central difference (both forward and backward IDX)\n",
    "        diff_x = np.linalg.norm(dataframe.iloc[px, 3:] - dataframe.iloc[mx, 3:])\n",
    "        diff_y = np.linalg.norm(dataframe.iloc[py, 3:] - dataframe.iloc[my, 3:])\n",
    "        diff_z = np.linalg.norm(dataframe.iloc[pz, 3:] - dataframe.iloc[mz, 3:])\n",
    "        condition.append(dataframe.iloc[i,:3].to_list() + [diff_x, diff_y, diff_z])\n",
    "    return condition"
   ]
  },
  {
   "cell_type": "code",
   "execution_count": 4,
   "metadata": {},
   "outputs": [],
   "source": [
    "hum_condition_iartd = pd.DataFrame(find_condition(hum_iartd), columns=['x', 'y', 'z', 'dx', 'dy', 'dz'])\n",
    "hum_condition_hu = pd.DataFrame(find_condition(hum_hu), columns=['x', 'y', 'z', 'dx', 'dy', 'dz'])\n",
    "sca_condition_iartd = pd.DataFrame(find_condition(sca_iartd), columns=['x', 'y', 'z', 'dx', 'dy', 'dz'])\n",
    "sca_condition_hu = pd.DataFrame(find_condition(sca_hu), columns=['x', 'y', 'z', 'dx', 'dy', 'dz'])\n",
    "fem_condition_iartd = pd.DataFrame(find_condition(fem_iartd), columns=['x', 'y', 'z', 'dx', 'dy', 'dz'])\n",
    "fem_condition_hu = pd.DataFrame(find_condition(fem_hu), columns=['x', 'y', 'z', 'dx', 'dy', 'dz'])\n",
    "tib_condition_iartd = pd.DataFrame(find_condition(tib_iartd), columns=['x', 'y', 'z', 'dx', 'dy', 'dz'])\n",
    "tib_condition_hu = pd.DataFrame(find_condition(tib_hu), columns=['x', 'y', 'z', 'dx', 'dy', 'dz'])\n",
    "\n"
   ]
  },
  {
   "cell_type": "code",
   "execution_count": 6,
   "metadata": {},
   "outputs": [],
   "source": [
    "## save the dataframes\n",
    "hum_condition_iartd.to_csv('hum_condition_iartd.csv', index=False)\n",
    "hum_condition_hu.to_csv('hum_condition_hu.csv', index=False)\n",
    "sca_condition_iartd.to_csv('sca_condition_iartd.csv', index=False)\n",
    "sca_condition_hu.to_csv('sca_condition_hu.csv', index=False)\n",
    "fem_condition_iartd.to_csv('fem_condition_iartd.csv', index=False)\n",
    "fem_condition_hu.to_csv('fem_condition_hu.csv', index=False)\n",
    "tib_condition_iartd.to_csv('tib_condition_iartd.csv', index=False)\n",
    "tib_condition_hu.to_csv('tib_condition_hu.csv', index=False)\n"
   ]
  }
 ],
 "metadata": {
  "kernelspec": {
   "display_name": "sym-trap-network",
   "language": "python",
   "name": "python3"
  },
  "language_info": {
   "codemirror_mode": {
    "name": "ipython",
    "version": 3
   },
   "file_extension": ".py",
   "mimetype": "text/x-python",
   "name": "python",
   "nbconvert_exporter": "python",
   "pygments_lexer": "ipython3",
   "version": "3.10.10"
  }
 },
 "nbformat": 4,
 "nbformat_minor": 2
}
